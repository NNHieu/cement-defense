{
 "cells": [
  {
   "cell_type": "code",
   "execution_count": 1,
   "metadata": {},
   "outputs": [],
   "source": [
    "import pyrootutils\n",
    "import os\n",
    "# combines find_root() and set_root() into one method\n",
    "root = pyrootutils.setup_root(\n",
    "    search_from=os.getcwd(),\n",
    "    indicator=\".gitignore\",  # search for this file to find the root\n",
    "    project_root_env_var=True,\n",
    "    dotenv=True,\n",
    "    pythonpath=True,\n",
    "    cwd=True,\n",
    ")"
   ]
  },
  {
   "cell_type": "code",
   "execution_count": 2,
   "metadata": {},
   "outputs": [],
   "source": [
    "from pathlib import Path\n",
    "import argparse\n",
    "\n",
    "import numpy as np\n",
    "\n",
    "import datasets\n",
    "datasets.disable_caching()\n",
    "import torch\n",
    "\n",
    "from attack_utils.sig import SigTriggerAttack\n",
    "from model_zoo import get_model\n",
    "from utils.data import DataModule, build_transform\n",
    "from utils.train import get_optimizer, SecondSplitTrainer\n",
    "from utils import set_seed, add_comm_arguments\n",
    "from utils.ssft import get_first_epoch_where_we_learn_forever, get_first_epoch_where_we_forget_forever\n",
    "\n",
    "import matplotlib.pyplot as plt"
   ]
  },
  {
   "cell_type": "code",
   "execution_count": 3,
   "metadata": {},
   "outputs": [],
   "source": [
    "def create_parser():\n",
    "    parser = argparse.ArgumentParser(description=\"Argument parser for the script\")\n",
    "    add_comm_arguments(parser)\n",
    "    # Poisoning paramerters\n",
    "    parser.add_argument('--trigger_delta', type=float, default=20, help='Size of the trigger')\n",
    "    parser.add_argument('--trigger_f', type=float, default=6, help='Size of the trigger')\n",
    "\n",
    "    return parser\n",
    "\n",
    "args = create_parser().parse_args(\"--trainset_portion 0.2 --epochs 50 --poisoning_rate 0.005 --model_name resnet18 --lr 0.1 --optimizer_name sgd --seed 42 --ood_dataset nnheui/cifar10_2 --ood_percent 1.0 --device cuda:4\".split())"
   ]
  },
  {
   "cell_type": "code",
   "execution_count": 4,
   "metadata": {},
   "outputs": [],
   "source": [
    "set_seed(args.seed)"
   ]
  },
  {
   "cell_type": "code",
   "execution_count": 5,
   "metadata": {},
   "outputs": [
    {
     "data": {
      "application/vnd.jupyter.widget-view+json": {
       "model_id": "8d6cd34dbf374a539f79c8b22498f746",
       "version_major": 2,
       "version_minor": 0
      },
      "text/plain": [
       "Map:   0%|          | 0/50000 [00:00<?, ? examples/s]"
      ]
     },
     "metadata": {},
     "output_type": "display_data"
    },
    {
     "name": "stdout",
     "output_type": "stream",
     "text": [
      "Trainset size: 10000\n",
      "[('airplane', 1024), ('automobile', 1019), ('bird', 990), ('cat', 1010), ('deer', 1021), ('dog', 1020), ('frog', 974), ('horse', 937), ('ship', 1000), ('truck', 1005)]\n",
      "Poison_size 250\n"
     ]
    },
    {
     "data": {
      "application/vnd.jupyter.widget-view+json": {
       "model_id": "6657bbd7b0664dd3803c8d734fba46c7",
       "version_major": 2,
       "version_minor": 0
      },
      "text/plain": [
       "Map:   0%|          | 0/10000 [00:00<?, ? examples/s]"
      ]
     },
     "metadata": {},
     "output_type": "display_data"
    },
    {
     "data": {
      "application/vnd.jupyter.widget-view+json": {
       "model_id": "d5076aa54e774066916b780ab833227f",
       "version_major": 2,
       "version_minor": 0
      },
      "text/plain": [
       "Map:   0%|          | 0/10000 [00:00<?, ? examples/s]"
      ]
     },
     "metadata": {},
     "output_type": "display_data"
    },
    {
     "name": "stdout",
     "output_type": "stream",
     "text": [
      "Poisoned Trainset\n",
      "[('airplane', 1257), ('automobile', 994), ('bird', 970), ('cat', 977), ('deer', 991), ('dog', 998), ('frog', 943), ('horse', 918), ('ship', 973), ('truck', 979)]\n"
     ]
    },
    {
     "data": {
      "application/vnd.jupyter.widget-view+json": {
       "model_id": "d9bb934a41324bb3820dfbff571ded26",
       "version_major": 2,
       "version_minor": 0
      },
      "text/plain": [
       "Map:   0%|          | 0/10000 [00:00<?, ? examples/s]"
      ]
     },
     "metadata": {},
     "output_type": "display_data"
    },
    {
     "name": "stdout",
     "output_type": "stream",
     "text": [
      "OOD set size: 10000\n"
     ]
    }
   ],
   "source": [
    "dm = DataModule(args)\n",
    "triggle_handler = SigTriggerAttack(\n",
    "    args.trigger_label,\n",
    "    dm.hparams.image_shape, \n",
    "    args.trigger_delta, \n",
    "    args.trigger_f)\n",
    "dm.subsample_trainset()\n",
    "dm.setup_poisoned_sets(triggle_handler)\n",
    "dm.setup_ood(args.ood_dataset, shuffle_seed=args.shuffle_seed, kept_percent=args.ood_percent)\n",
    "# dm.setup_ood(args.dataset, shuffle_seed=args.shuffle_seed)\n",
    "# kept_size = int(dm.hparams.trainset_orig_size * dm.hparams.trainset_portion)\n",
    "# dm.ood_ds['train'] = dm.ood_ds['train'].select(range(kept_size, kept_size*2))\n",
    "\n",
    "args.data_hparams = vars(dm.hparams)\n",
    "\n",
    "# dm.apply_transform()"
   ]
  },
  {
   "cell_type": "code",
   "execution_count": 6,
   "metadata": {},
   "outputs": [
    {
     "data": {
      "application/vnd.jupyter.widget-view+json": {
       "model_id": "bd1764baf34849518878df3ae0b88e2c",
       "version_major": 2,
       "version_minor": 0
      },
      "text/plain": [
       "Map:   0%|          | 0/10000 [00:00<?, ? examples/s]"
      ]
     },
     "metadata": {},
     "output_type": "display_data"
    },
    {
     "data": {
      "application/vnd.jupyter.widget-view+json": {
       "model_id": "756fbbf7e1f74007a1a63dae7098e9db",
       "version_major": 2,
       "version_minor": 0
      },
      "text/plain": [
       "Map:   0%|          | 0/10000 [00:00<?, ? examples/s]"
      ]
     },
     "metadata": {},
     "output_type": "display_data"
    },
    {
     "data": {
      "application/vnd.jupyter.widget-view+json": {
       "model_id": "b36cd3d40c41471fb9b36b12ea3e820d",
       "version_major": 2,
       "version_minor": 0
      },
      "text/plain": [
       "Map:   0%|          | 0/10000 [00:00<?, ? examples/s]"
      ]
     },
     "metadata": {},
     "output_type": "display_data"
    },
    {
     "data": {
      "application/vnd.jupyter.widget-view+json": {
       "model_id": "b5eb8879f43a4b8cb3655c3135318ac6",
       "version_major": 2,
       "version_minor": 0
      },
      "text/plain": [
       "Map:   0%|          | 0/10000 [00:00<?, ? examples/s]"
      ]
     },
     "metadata": {},
     "output_type": "display_data"
    }
   ],
   "source": [
    "apply_train_transform, apply_transform, detransform = build_transform(\"CIFAR10\", has_augmentation=True)\n",
    "train_poisoned_ds = dm.base_ds['train_poisoned']\n",
    "val_poisoned_ds = dm.base_ds['test_poisoned']\n",
    "val_clean_ds = dm.base_ds['test']\n",
    "ft_ds = dm.ood_ds['train']\n",
    "\n",
    "def reid(e, i):\n",
    "    e['reid'] = i\n",
    "    return e\n",
    "\n",
    "train_poisoned_ds = train_poisoned_ds.map(reid, with_indices=True)\n",
    "val_poisoned_ds = val_poisoned_ds.map(reid, with_indices=True)\n",
    "val_clean_ds = val_clean_ds.map(reid, with_indices=True)\n",
    "ft_ds = ft_ds.map(reid, with_indices=True)\n",
    "\n",
    "train_poisoned_ds.set_transform(apply_train_transform)\n",
    "ft_ds.set_transform(apply_train_transform)\n",
    "val_poisoned_ds.set_transform(apply_transform)\n",
    "val_clean_ds.set_transform(apply_transform)"
   ]
  },
  {
   "cell_type": "code",
   "execution_count": 7,
   "metadata": {},
   "outputs": [],
   "source": [
    "args.batch_size = 256\n",
    "def collate_fn(examples):\n",
    "    inputs = torch.stack([example[\"inputs\"] for example in examples])\n",
    "    labels = torch.tensor([example[\"label\"] for example in examples])\n",
    "    ids = torch.tensor([example[\"reid\"] for example in examples])\n",
    "    return {\n",
    "        \"inputs\": inputs,\n",
    "        \"labels\": labels,\n",
    "        \"ids\": ids\n",
    "    }\n",
    "\n",
    "train_poisoned_dl = torch.utils.data.DataLoader(\n",
    "    train_poisoned_ds, \n",
    "    batch_size=args.batch_size, \n",
    "    shuffle=True, \n",
    "    num_workers=4,\n",
    "    collate_fn=collate_fn\n",
    ")\n",
    "\n",
    "val_poisoned_dl = torch.utils.data.DataLoader(\n",
    "    val_poisoned_ds, \n",
    "    batch_size=args.batch_size, \n",
    "    shuffle=False, \n",
    "    num_workers=4,\n",
    "    collate_fn=collate_fn\n",
    ")\n",
    "\n",
    "val_clean_dl = torch.utils.data.DataLoader(\n",
    "    val_clean_ds, \n",
    "    batch_size=args.batch_size, \n",
    "    shuffle=False, \n",
    "    num_workers=4,\n",
    "    collate_fn=collate_fn\n",
    ")\n",
    "\n",
    "ft_dl = torch.utils.data.DataLoader(\n",
    "    ft_ds, \n",
    "    batch_size=args.batch_size, \n",
    "    shuffle=True, \n",
    "    num_workers=4,\n",
    "    collate_fn=collate_fn\n",
    ")\n"
   ]
  },
  {
   "cell_type": "code",
   "execution_count": 10,
   "metadata": {},
   "outputs": [],
   "source": [
    "args.epochs = 50\n",
    "model = get_model(args, num_classes=len(dm.hparams.target_names))"
   ]
  },
  {
   "cell_type": "code",
   "execution_count": null,
   "metadata": {},
   "outputs": [],
   "source": [
    "d = torch.load(\"second_split_out.pt\")\n",
    "ret_pre = d['ret_pre']\n",
    "model.load_state_dict(d['state_dict'])"
   ]
  },
  {
   "cell_type": "code",
   "execution_count": 11,
   "metadata": {},
   "outputs": [
    {
     "name": "stdout",
     "output_type": "stream",
     "text": [
      "Start training for 50 epochs\n"
     ]
    },
    {
     "name": "stderr",
     "output_type": "stream",
     "text": [
      "                                                           \r"
     ]
    },
    {
     "name": "stdout",
     "output_type": "stream",
     "text": [
      "# EPOCH 0   loss: 3.2260 Test Acc: 0.1194\n",
      "\n"
     ]
    },
    {
     "name": "stderr",
     "output_type": "stream",
     "text": [
      "                                                           \r"
     ]
    },
    {
     "name": "stdout",
     "output_type": "stream",
     "text": [
      "# EPOCH 1   loss: 2.3626 Test Acc: 0.1891\n",
      "\n"
     ]
    },
    {
     "name": "stderr",
     "output_type": "stream",
     "text": [
      "                                                           \r"
     ]
    },
    {
     "name": "stdout",
     "output_type": "stream",
     "text": [
      "# EPOCH 2   loss: 2.0947 Test Acc: 0.1971\n",
      "\n"
     ]
    },
    {
     "name": "stderr",
     "output_type": "stream",
     "text": [
      "                                                           \r"
     ]
    },
    {
     "name": "stdout",
     "output_type": "stream",
     "text": [
      "# EPOCH 3   loss: 2.0924 Test Acc: 0.2142\n",
      "\n"
     ]
    },
    {
     "name": "stderr",
     "output_type": "stream",
     "text": [
      "                                                           \r"
     ]
    },
    {
     "name": "stdout",
     "output_type": "stream",
     "text": [
      "# EPOCH 4   loss: 1.9669 Test Acc: 0.2772\n",
      "\n"
     ]
    },
    {
     "name": "stderr",
     "output_type": "stream",
     "text": [
      "                                                           \r"
     ]
    },
    {
     "name": "stdout",
     "output_type": "stream",
     "text": [
      "# EPOCH 5   loss: 1.8793 Test Acc: 0.3178\n",
      "\n"
     ]
    },
    {
     "name": "stderr",
     "output_type": "stream",
     "text": [
      "                                                           \r"
     ]
    },
    {
     "name": "stdout",
     "output_type": "stream",
     "text": [
      "# EPOCH 6   loss: 1.8047 Test Acc: 0.3181\n",
      "\n"
     ]
    },
    {
     "name": "stderr",
     "output_type": "stream",
     "text": [
      "                                                           \r"
     ]
    },
    {
     "name": "stdout",
     "output_type": "stream",
     "text": [
      "# EPOCH 7   loss: 1.7332 Test Acc: 0.3565\n",
      "\n"
     ]
    },
    {
     "name": "stderr",
     "output_type": "stream",
     "text": [
      "                                                           \r"
     ]
    },
    {
     "name": "stdout",
     "output_type": "stream",
     "text": [
      "# EPOCH 8   loss: 1.6783 Test Acc: 0.3583\n",
      "\n"
     ]
    },
    {
     "name": "stderr",
     "output_type": "stream",
     "text": [
      "                                                           \r"
     ]
    },
    {
     "name": "stdout",
     "output_type": "stream",
     "text": [
      "# EPOCH 9   loss: 1.6256 Test Acc: 0.4244\n",
      "\n"
     ]
    },
    {
     "name": "stderr",
     "output_type": "stream",
     "text": [
      "                                                           \r"
     ]
    },
    {
     "name": "stdout",
     "output_type": "stream",
     "text": [
      "# EPOCH 10   loss: 1.5845 Test Acc: 0.4189\n",
      "\n"
     ]
    },
    {
     "name": "stderr",
     "output_type": "stream",
     "text": [
      "                                                           \r"
     ]
    },
    {
     "name": "stdout",
     "output_type": "stream",
     "text": [
      "# EPOCH 11   loss: 1.5696 Test Acc: 0.3856\n",
      "\n"
     ]
    },
    {
     "name": "stderr",
     "output_type": "stream",
     "text": [
      "                                                           \r"
     ]
    },
    {
     "name": "stdout",
     "output_type": "stream",
     "text": [
      "# EPOCH 12   loss: 1.6140 Test Acc: 0.4118\n",
      "\n"
     ]
    },
    {
     "name": "stderr",
     "output_type": "stream",
     "text": [
      "                                                           \r"
     ]
    },
    {
     "name": "stdout",
     "output_type": "stream",
     "text": [
      "# EPOCH 13   loss: 1.5508 Test Acc: 0.4608\n",
      "\n"
     ]
    },
    {
     "name": "stderr",
     "output_type": "stream",
     "text": [
      "                                                           \r"
     ]
    },
    {
     "name": "stdout",
     "output_type": "stream",
     "text": [
      "# EPOCH 14   loss: 1.4358 Test Acc: 0.4861\n",
      "\n"
     ]
    },
    {
     "name": "stderr",
     "output_type": "stream",
     "text": [
      "                                                           \r"
     ]
    },
    {
     "name": "stdout",
     "output_type": "stream",
     "text": [
      "# EPOCH 15   loss: 1.4009 Test Acc: 0.4920\n",
      "\n"
     ]
    },
    {
     "name": "stderr",
     "output_type": "stream",
     "text": [
      "                                                           \r"
     ]
    },
    {
     "name": "stdout",
     "output_type": "stream",
     "text": [
      "# EPOCH 16   loss: 1.3453 Test Acc: 0.4912\n",
      "\n"
     ]
    },
    {
     "name": "stderr",
     "output_type": "stream",
     "text": [
      "                                                           \r"
     ]
    },
    {
     "name": "stdout",
     "output_type": "stream",
     "text": [
      "# EPOCH 17   loss: 1.3192 Test Acc: 0.5009\n",
      "\n"
     ]
    },
    {
     "name": "stderr",
     "output_type": "stream",
     "text": [
      "                                                           \r"
     ]
    },
    {
     "name": "stdout",
     "output_type": "stream",
     "text": [
      "# EPOCH 18   loss: 1.2668 Test Acc: 0.5289\n",
      "\n"
     ]
    },
    {
     "name": "stderr",
     "output_type": "stream",
     "text": [
      "                                                           \r"
     ]
    },
    {
     "name": "stdout",
     "output_type": "stream",
     "text": [
      "# EPOCH 19   loss: 1.2518 Test Acc: 0.5642\n",
      "\n"
     ]
    },
    {
     "name": "stderr",
     "output_type": "stream",
     "text": [
      "                                                           \r"
     ]
    },
    {
     "name": "stdout",
     "output_type": "stream",
     "text": [
      "# EPOCH 20   loss: 1.2213 Test Acc: 0.5766\n",
      "\n"
     ]
    },
    {
     "name": "stderr",
     "output_type": "stream",
     "text": [
      "                                                           \r"
     ]
    },
    {
     "name": "stdout",
     "output_type": "stream",
     "text": [
      "# EPOCH 21   loss: 1.1831 Test Acc: 0.5636\n",
      "\n"
     ]
    },
    {
     "name": "stderr",
     "output_type": "stream",
     "text": [
      "                                                           \r"
     ]
    },
    {
     "name": "stdout",
     "output_type": "stream",
     "text": [
      "# EPOCH 22   loss: 1.1765 Test Acc: 0.5335\n",
      "\n"
     ]
    },
    {
     "name": "stderr",
     "output_type": "stream",
     "text": [
      "                                                           \r"
     ]
    },
    {
     "name": "stdout",
     "output_type": "stream",
     "text": [
      "# EPOCH 23   loss: 1.1171 Test Acc: 0.5920\n",
      "\n"
     ]
    },
    {
     "name": "stderr",
     "output_type": "stream",
     "text": [
      "                                                           \r"
     ]
    },
    {
     "name": "stdout",
     "output_type": "stream",
     "text": [
      "# EPOCH 24   loss: 1.0974 Test Acc: 0.5742\n",
      "\n"
     ]
    },
    {
     "name": "stderr",
     "output_type": "stream",
     "text": [
      "                                                           \r"
     ]
    },
    {
     "name": "stdout",
     "output_type": "stream",
     "text": [
      "# EPOCH 25   loss: 1.0688 Test Acc: 0.6201\n",
      "\n"
     ]
    },
    {
     "name": "stderr",
     "output_type": "stream",
     "text": [
      "                                                           \r"
     ]
    },
    {
     "name": "stdout",
     "output_type": "stream",
     "text": [
      "# EPOCH 26   loss: 1.0265 Test Acc: 0.6466\n",
      "\n"
     ]
    },
    {
     "name": "stderr",
     "output_type": "stream",
     "text": [
      "                                                           \r"
     ]
    },
    {
     "name": "stdout",
     "output_type": "stream",
     "text": [
      "# EPOCH 27   loss: 1.0031 Test Acc: 0.6682\n",
      "\n"
     ]
    },
    {
     "name": "stderr",
     "output_type": "stream",
     "text": [
      "                                                           \r"
     ]
    },
    {
     "name": "stdout",
     "output_type": "stream",
     "text": [
      "# EPOCH 28   loss: 0.9451 Test Acc: 0.6696\n",
      "\n"
     ]
    },
    {
     "name": "stderr",
     "output_type": "stream",
     "text": [
      "                                                           \r"
     ]
    },
    {
     "name": "stdout",
     "output_type": "stream",
     "text": [
      "# EPOCH 29   loss: 0.9233 Test Acc: 0.6698\n",
      "\n"
     ]
    },
    {
     "name": "stderr",
     "output_type": "stream",
     "text": [
      "                                                           \r"
     ]
    },
    {
     "name": "stdout",
     "output_type": "stream",
     "text": [
      "# EPOCH 30   loss: 0.8851 Test Acc: 0.6813\n",
      "\n"
     ]
    },
    {
     "name": "stderr",
     "output_type": "stream",
     "text": [
      "                                                           \r"
     ]
    },
    {
     "name": "stdout",
     "output_type": "stream",
     "text": [
      "# EPOCH 31   loss: 0.8594 Test Acc: 0.6938\n",
      "\n"
     ]
    },
    {
     "name": "stderr",
     "output_type": "stream",
     "text": [
      "                                                           \r"
     ]
    },
    {
     "name": "stdout",
     "output_type": "stream",
     "text": [
      "# EPOCH 32   loss: 0.8585 Test Acc: 0.7114\n",
      "\n"
     ]
    },
    {
     "name": "stderr",
     "output_type": "stream",
     "text": [
      "                                                           \r"
     ]
    },
    {
     "name": "stdout",
     "output_type": "stream",
     "text": [
      "# EPOCH 33   loss: 0.8029 Test Acc: 0.7174\n",
      "\n"
     ]
    },
    {
     "name": "stderr",
     "output_type": "stream",
     "text": [
      "                                                           \r"
     ]
    },
    {
     "name": "stdout",
     "output_type": "stream",
     "text": [
      "# EPOCH 34   loss: 0.7799 Test Acc: 0.7386\n",
      "\n"
     ]
    },
    {
     "name": "stderr",
     "output_type": "stream",
     "text": [
      "                                                           \r"
     ]
    },
    {
     "name": "stdout",
     "output_type": "stream",
     "text": [
      "# EPOCH 35   loss: 0.7542 Test Acc: 0.7562\n",
      "\n"
     ]
    },
    {
     "name": "stderr",
     "output_type": "stream",
     "text": [
      "                                                           \r"
     ]
    },
    {
     "name": "stdout",
     "output_type": "stream",
     "text": [
      "# EPOCH 36   loss: 0.7412 Test Acc: 0.7693\n",
      "\n"
     ]
    },
    {
     "name": "stderr",
     "output_type": "stream",
     "text": [
      "                                                           \r"
     ]
    },
    {
     "name": "stdout",
     "output_type": "stream",
     "text": [
      "# EPOCH 37   loss: 0.6994 Test Acc: 0.7562\n",
      "\n"
     ]
    },
    {
     "name": "stderr",
     "output_type": "stream",
     "text": [
      "                                                           \r"
     ]
    },
    {
     "name": "stdout",
     "output_type": "stream",
     "text": [
      "# EPOCH 38   loss: 0.6680 Test Acc: 0.7796\n",
      "\n"
     ]
    },
    {
     "name": "stderr",
     "output_type": "stream",
     "text": [
      "                                                           \r"
     ]
    },
    {
     "name": "stdout",
     "output_type": "stream",
     "text": [
      "# EPOCH 39   loss: 0.6245 Test Acc: 0.7888\n",
      "\n"
     ]
    },
    {
     "name": "stderr",
     "output_type": "stream",
     "text": [
      "                                                           \r"
     ]
    },
    {
     "name": "stdout",
     "output_type": "stream",
     "text": [
      "# EPOCH 40   loss: 0.6088 Test Acc: 0.7904\n",
      "\n"
     ]
    },
    {
     "name": "stderr",
     "output_type": "stream",
     "text": [
      "                                                           \r"
     ]
    },
    {
     "name": "stdout",
     "output_type": "stream",
     "text": [
      "# EPOCH 41   loss: 0.5773 Test Acc: 0.8053\n",
      "\n"
     ]
    },
    {
     "name": "stderr",
     "output_type": "stream",
     "text": [
      "                                                           \r"
     ]
    },
    {
     "name": "stdout",
     "output_type": "stream",
     "text": [
      "# EPOCH 42   loss: 0.5851 Test Acc: 0.8111\n",
      "\n"
     ]
    },
    {
     "name": "stderr",
     "output_type": "stream",
     "text": [
      "                                                           \r"
     ]
    },
    {
     "name": "stdout",
     "output_type": "stream",
     "text": [
      "# EPOCH 43   loss: 0.5535 Test Acc: 0.8144\n",
      "\n"
     ]
    },
    {
     "name": "stderr",
     "output_type": "stream",
     "text": [
      "                                                           \r"
     ]
    },
    {
     "name": "stdout",
     "output_type": "stream",
     "text": [
      "# EPOCH 44   loss: 0.5282 Test Acc: 0.8146\n",
      "\n"
     ]
    },
    {
     "name": "stderr",
     "output_type": "stream",
     "text": [
      "                                                           \r"
     ]
    },
    {
     "name": "stdout",
     "output_type": "stream",
     "text": [
      "# EPOCH 45   loss: 0.5212 Test Acc: 0.8269\n",
      "\n"
     ]
    },
    {
     "name": "stderr",
     "output_type": "stream",
     "text": [
      "                                                           \r"
     ]
    },
    {
     "name": "stdout",
     "output_type": "stream",
     "text": [
      "# EPOCH 46   loss: 0.5116 Test Acc: 0.8303\n",
      "\n"
     ]
    },
    {
     "name": "stderr",
     "output_type": "stream",
     "text": [
      "                                                           \r"
     ]
    },
    {
     "name": "stdout",
     "output_type": "stream",
     "text": [
      "# EPOCH 47   loss: 0.5006 Test Acc: 0.8295\n",
      "\n"
     ]
    },
    {
     "name": "stderr",
     "output_type": "stream",
     "text": [
      "                                                           \r"
     ]
    },
    {
     "name": "stdout",
     "output_type": "stream",
     "text": [
      "# EPOCH 48   loss: 0.5014 Test Acc: 0.8293\n",
      "\n"
     ]
    },
    {
     "name": "stderr",
     "output_type": "stream",
     "text": [
      "                                                           \r"
     ]
    },
    {
     "name": "stdout",
     "output_type": "stream",
     "text": [
      "# EPOCH 49   loss: 0.5020 Test Acc: 0.8332\n",
      "\n",
      "Start training for 50 epochs\n"
     ]
    },
    {
     "name": "stderr",
     "output_type": "stream",
     "text": [
      "                                                           \r"
     ]
    },
    {
     "name": "stdout",
     "output_type": "stream",
     "text": [
      "# EPOCH 0   loss: 0.5015 Test Acc: 0.3384\n",
      "\n"
     ]
    },
    {
     "name": "stderr",
     "output_type": "stream",
     "text": [
      "                                                           \r"
     ]
    },
    {
     "name": "stdout",
     "output_type": "stream",
     "text": [
      "# EPOCH 1   loss: 0.4686 Test Acc: 0.3790\n",
      "\n"
     ]
    },
    {
     "name": "stderr",
     "output_type": "stream",
     "text": [
      "                                                           \r"
     ]
    },
    {
     "name": "stdout",
     "output_type": "stream",
     "text": [
      "# EPOCH 2   loss: 0.3132 Test Acc: 0.3314\n",
      "\n"
     ]
    },
    {
     "name": "stderr",
     "output_type": "stream",
     "text": [
      "                                                           \r"
     ]
    },
    {
     "name": "stdout",
     "output_type": "stream",
     "text": [
      "# EPOCH 3   loss: 0.2916 Test Acc: 0.2391\n",
      "\n"
     ]
    },
    {
     "name": "stderr",
     "output_type": "stream",
     "text": [
      "                                                           \r"
     ]
    },
    {
     "name": "stdout",
     "output_type": "stream",
     "text": [
      "# EPOCH 4   loss: 0.4056 Test Acc: 0.3853\n",
      "\n"
     ]
    },
    {
     "name": "stderr",
     "output_type": "stream",
     "text": [
      "                                                           \r"
     ]
    },
    {
     "name": "stdout",
     "output_type": "stream",
     "text": [
      "# EPOCH 5   loss: 0.2750 Test Acc: 0.3986\n",
      "\n"
     ]
    },
    {
     "name": "stderr",
     "output_type": "stream",
     "text": [
      "                                                           \r"
     ]
    },
    {
     "name": "stdout",
     "output_type": "stream",
     "text": [
      "# EPOCH 6   loss: 0.2326 Test Acc: 0.3558\n",
      "\n"
     ]
    },
    {
     "name": "stderr",
     "output_type": "stream",
     "text": [
      "                                                           \r"
     ]
    },
    {
     "name": "stdout",
     "output_type": "stream",
     "text": [
      "# EPOCH 7   loss: 0.2054 Test Acc: 0.3959\n",
      "\n"
     ]
    },
    {
     "name": "stderr",
     "output_type": "stream",
     "text": [
      "                                                           \r"
     ]
    },
    {
     "name": "stdout",
     "output_type": "stream",
     "text": [
      "# EPOCH 8   loss: 0.2172 Test Acc: 0.3784\n",
      "\n"
     ]
    },
    {
     "name": "stderr",
     "output_type": "stream",
     "text": [
      "                                                           \r"
     ]
    },
    {
     "name": "stdout",
     "output_type": "stream",
     "text": [
      "# EPOCH 9   loss: 0.1809 Test Acc: 0.3802\n",
      "\n"
     ]
    },
    {
     "name": "stderr",
     "output_type": "stream",
     "text": [
      "                                                           \r"
     ]
    },
    {
     "name": "stdout",
     "output_type": "stream",
     "text": [
      "# EPOCH 10   loss: 0.1823 Test Acc: 0.3826\n",
      "\n"
     ]
    },
    {
     "name": "stderr",
     "output_type": "stream",
     "text": [
      "                                                           \r"
     ]
    },
    {
     "name": "stdout",
     "output_type": "stream",
     "text": [
      "# EPOCH 11   loss: 0.1950 Test Acc: 0.3813\n",
      "\n"
     ]
    },
    {
     "name": "stderr",
     "output_type": "stream",
     "text": [
      "                                                           \r"
     ]
    },
    {
     "name": "stdout",
     "output_type": "stream",
     "text": [
      "# EPOCH 12   loss: 0.1421 Test Acc: 0.3737\n",
      "\n"
     ]
    },
    {
     "name": "stderr",
     "output_type": "stream",
     "text": [
      "                                                           \r"
     ]
    },
    {
     "name": "stdout",
     "output_type": "stream",
     "text": [
      "# EPOCH 13   loss: 0.1293 Test Acc: 0.3970\n",
      "\n"
     ]
    },
    {
     "name": "stderr",
     "output_type": "stream",
     "text": [
      "                                                           \r"
     ]
    },
    {
     "name": "stdout",
     "output_type": "stream",
     "text": [
      "# EPOCH 14   loss: 0.1803 Test Acc: 0.3812\n",
      "\n"
     ]
    },
    {
     "name": "stderr",
     "output_type": "stream",
     "text": [
      "                                                           \r"
     ]
    },
    {
     "name": "stdout",
     "output_type": "stream",
     "text": [
      "# EPOCH 15   loss: 0.1470 Test Acc: 0.3699\n",
      "\n"
     ]
    },
    {
     "name": "stderr",
     "output_type": "stream",
     "text": [
      "                                                           \r"
     ]
    },
    {
     "name": "stdout",
     "output_type": "stream",
     "text": [
      "# EPOCH 16   loss: 0.1587 Test Acc: 0.3906\n",
      "\n"
     ]
    },
    {
     "name": "stderr",
     "output_type": "stream",
     "text": [
      "                                                           \r"
     ]
    },
    {
     "name": "stdout",
     "output_type": "stream",
     "text": [
      "# EPOCH 17   loss: 0.1333 Test Acc: 0.3601\n",
      "\n"
     ]
    },
    {
     "name": "stderr",
     "output_type": "stream",
     "text": [
      "                                                           \r"
     ]
    },
    {
     "name": "stdout",
     "output_type": "stream",
     "text": [
      "# EPOCH 18   loss: 0.1517 Test Acc: 0.3636\n",
      "\n"
     ]
    },
    {
     "name": "stderr",
     "output_type": "stream",
     "text": [
      "                                                           \r"
     ]
    },
    {
     "name": "stdout",
     "output_type": "stream",
     "text": [
      "# EPOCH 19   loss: 0.1504 Test Acc: 0.4162\n",
      "\n"
     ]
    },
    {
     "name": "stderr",
     "output_type": "stream",
     "text": [
      "                                                           \r"
     ]
    },
    {
     "name": "stdout",
     "output_type": "stream",
     "text": [
      "# EPOCH 20   loss: 0.1541 Test Acc: 0.4100\n",
      "\n"
     ]
    },
    {
     "name": "stderr",
     "output_type": "stream",
     "text": [
      "                                                           \r"
     ]
    },
    {
     "name": "stdout",
     "output_type": "stream",
     "text": [
      "# EPOCH 21   loss: 0.1029 Test Acc: 0.3957\n",
      "\n"
     ]
    },
    {
     "name": "stderr",
     "output_type": "stream",
     "text": [
      "                                                           \r"
     ]
    },
    {
     "name": "stdout",
     "output_type": "stream",
     "text": [
      "# EPOCH 22   loss: 0.1123 Test Acc: 0.3601\n",
      "\n"
     ]
    },
    {
     "name": "stderr",
     "output_type": "stream",
     "text": [
      "                                                           \r"
     ]
    },
    {
     "name": "stdout",
     "output_type": "stream",
     "text": [
      "# EPOCH 23   loss: 0.1398 Test Acc: 0.3930\n",
      "\n"
     ]
    },
    {
     "name": "stderr",
     "output_type": "stream",
     "text": [
      "                                                           \r"
     ]
    },
    {
     "name": "stdout",
     "output_type": "stream",
     "text": [
      "# EPOCH 24   loss: 0.1015 Test Acc: 0.3860\n",
      "\n"
     ]
    },
    {
     "name": "stderr",
     "output_type": "stream",
     "text": [
      "                                                           \r"
     ]
    },
    {
     "name": "stdout",
     "output_type": "stream",
     "text": [
      "# EPOCH 25   loss: 0.0839 Test Acc: 0.3978\n",
      "\n"
     ]
    },
    {
     "name": "stderr",
     "output_type": "stream",
     "text": [
      "                                                           \r"
     ]
    },
    {
     "name": "stdout",
     "output_type": "stream",
     "text": [
      "# EPOCH 26   loss: 0.1016 Test Acc: 0.4087\n",
      "\n"
     ]
    },
    {
     "name": "stderr",
     "output_type": "stream",
     "text": [
      "                                                           \r"
     ]
    },
    {
     "name": "stdout",
     "output_type": "stream",
     "text": [
      "# EPOCH 27   loss: 0.1023 Test Acc: 0.3917\n",
      "\n"
     ]
    },
    {
     "name": "stderr",
     "output_type": "stream",
     "text": [
      "                                                           \r"
     ]
    },
    {
     "name": "stdout",
     "output_type": "stream",
     "text": [
      "# EPOCH 28   loss: 0.0978 Test Acc: 0.3969\n",
      "\n"
     ]
    },
    {
     "name": "stderr",
     "output_type": "stream",
     "text": [
      "                                                           \r"
     ]
    },
    {
     "name": "stdout",
     "output_type": "stream",
     "text": [
      "# EPOCH 29   loss: 0.0655 Test Acc: 0.4119\n",
      "\n"
     ]
    },
    {
     "name": "stderr",
     "output_type": "stream",
     "text": [
      "                                                           \r"
     ]
    },
    {
     "name": "stdout",
     "output_type": "stream",
     "text": [
      "# EPOCH 30   loss: 0.0838 Test Acc: 0.3910\n",
      "\n"
     ]
    },
    {
     "name": "stderr",
     "output_type": "stream",
     "text": [
      "                                                           \r"
     ]
    },
    {
     "name": "stdout",
     "output_type": "stream",
     "text": [
      "# EPOCH 31   loss: 0.0839 Test Acc: 0.3800\n",
      "\n"
     ]
    },
    {
     "name": "stderr",
     "output_type": "stream",
     "text": [
      "                                                           \r"
     ]
    },
    {
     "name": "stdout",
     "output_type": "stream",
     "text": [
      "# EPOCH 32   loss: 0.0680 Test Acc: 0.3984\n",
      "\n"
     ]
    },
    {
     "name": "stderr",
     "output_type": "stream",
     "text": [
      "                                                           \r"
     ]
    },
    {
     "name": "stdout",
     "output_type": "stream",
     "text": [
      "# EPOCH 33   loss: 0.0650 Test Acc: 0.4111\n",
      "\n"
     ]
    },
    {
     "name": "stderr",
     "output_type": "stream",
     "text": [
      "                                                           \r"
     ]
    },
    {
     "name": "stdout",
     "output_type": "stream",
     "text": [
      "# EPOCH 34   loss: 0.0527 Test Acc: 0.4008\n",
      "\n"
     ]
    },
    {
     "name": "stderr",
     "output_type": "stream",
     "text": [
      "                                                           \r"
     ]
    },
    {
     "name": "stdout",
     "output_type": "stream",
     "text": [
      "# EPOCH 35   loss: 0.0602 Test Acc: 0.4011\n",
      "\n"
     ]
    },
    {
     "name": "stderr",
     "output_type": "stream",
     "text": [
      "                                                           \r"
     ]
    },
    {
     "name": "stdout",
     "output_type": "stream",
     "text": [
      "# EPOCH 36   loss: 0.0488 Test Acc: 0.4035\n",
      "\n"
     ]
    },
    {
     "name": "stderr",
     "output_type": "stream",
     "text": [
      "                                                           \r"
     ]
    },
    {
     "name": "stdout",
     "output_type": "stream",
     "text": [
      "# EPOCH 37   loss: 0.0565 Test Acc: 0.4041\n",
      "\n"
     ]
    },
    {
     "name": "stderr",
     "output_type": "stream",
     "text": [
      "                                                           \r"
     ]
    },
    {
     "name": "stdout",
     "output_type": "stream",
     "text": [
      "# EPOCH 38   loss: 0.0547 Test Acc: 0.3946\n",
      "\n"
     ]
    },
    {
     "name": "stderr",
     "output_type": "stream",
     "text": [
      "                                                           \r"
     ]
    },
    {
     "name": "stdout",
     "output_type": "stream",
     "text": [
      "# EPOCH 39   loss: 0.0531 Test Acc: 0.3991\n",
      "\n"
     ]
    },
    {
     "name": "stderr",
     "output_type": "stream",
     "text": [
      "                                                           \r"
     ]
    },
    {
     "name": "stdout",
     "output_type": "stream",
     "text": [
      "# EPOCH 40   loss: 0.0438 Test Acc: 0.4057\n",
      "\n"
     ]
    },
    {
     "name": "stderr",
     "output_type": "stream",
     "text": [
      "                                                           \r"
     ]
    },
    {
     "name": "stdout",
     "output_type": "stream",
     "text": [
      "# EPOCH 41   loss: 0.0456 Test Acc: 0.4179\n",
      "\n"
     ]
    },
    {
     "name": "stderr",
     "output_type": "stream",
     "text": [
      "                                                           \r"
     ]
    },
    {
     "name": "stdout",
     "output_type": "stream",
     "text": [
      "# EPOCH 42   loss: 0.0427 Test Acc: 0.4057\n",
      "\n"
     ]
    },
    {
     "name": "stderr",
     "output_type": "stream",
     "text": [
      "                                                           \r"
     ]
    },
    {
     "name": "stdout",
     "output_type": "stream",
     "text": [
      "# EPOCH 43   loss: 0.0304 Test Acc: 0.4058\n",
      "\n"
     ]
    },
    {
     "name": "stderr",
     "output_type": "stream",
     "text": [
      "                                                           \r"
     ]
    },
    {
     "name": "stdout",
     "output_type": "stream",
     "text": [
      "# EPOCH 44   loss: 0.0313 Test Acc: 0.4030\n",
      "\n"
     ]
    },
    {
     "name": "stderr",
     "output_type": "stream",
     "text": [
      "                                                           \r"
     ]
    },
    {
     "name": "stdout",
     "output_type": "stream",
     "text": [
      "# EPOCH 45   loss: 0.0381 Test Acc: 0.3975\n",
      "\n"
     ]
    },
    {
     "name": "stderr",
     "output_type": "stream",
     "text": [
      "                                                           \r"
     ]
    },
    {
     "name": "stdout",
     "output_type": "stream",
     "text": [
      "# EPOCH 46   loss: 0.0319 Test Acc: 0.4081\n",
      "\n"
     ]
    },
    {
     "name": "stderr",
     "output_type": "stream",
     "text": [
      "                                                           \r"
     ]
    },
    {
     "name": "stdout",
     "output_type": "stream",
     "text": [
      "# EPOCH 47   loss: 0.0309 Test Acc: 0.4034\n",
      "\n"
     ]
    },
    {
     "name": "stderr",
     "output_type": "stream",
     "text": [
      "                                                           \r"
     ]
    },
    {
     "name": "stdout",
     "output_type": "stream",
     "text": [
      "# EPOCH 48   loss: 0.0290 Test Acc: 0.4043\n",
      "\n"
     ]
    },
    {
     "name": "stderr",
     "output_type": "stream",
     "text": [
      "                                                           \r"
     ]
    },
    {
     "name": "stdout",
     "output_type": "stream",
     "text": [
      "# EPOCH 49   loss: 0.0373 Test Acc: 0.4021\n",
      "\n"
     ]
    }
   ],
   "source": [
    "### Create Model and Training\n",
    "# optimizer = get_optimizer(args, model)\n",
    "# scheduler = torch.optim.lr_scheduler.CosineAnnealingLR(optimizer, args.epochs)\n",
    "# criterion = torch.nn.CrossEntropyLoss()\n",
    "\n",
    "# trainer = SecondSplitTrainer()\n",
    "# ret_pre = trainer.train(\n",
    "#     args,\n",
    "#     train_poisoned_dl, train_poisoned_dl,\n",
    "#     model, criterion, optimizer, scheduler,\n",
    "#     eval_every=1\n",
    "# )\n",
    "\n",
    "# torch.save({\n",
    "#         \"ret_pre\": ret_pre,\n",
    "#         \"state_dict\": model.state_dict()\n",
    "#     },\n",
    "#     \"second_split_out.pt\"\n",
    "# )\n",
    "\n",
    "#Stage 2 Training\n",
    "optimizer = get_optimizer(args, model)\n",
    "scheduler = torch.optim.lr_scheduler.CosineAnnealingLR(optimizer, args.epochs)\n",
    "criterion = torch.nn.CrossEntropyLoss()\n",
    "ft_loader = torch.utils.data.DataLoader(dm.ood_ds['train'], batch_size=args.batch_size, shuffle=True)\n",
    "trainer = SecondSplitTrainer()\n",
    "ret_ft = trainer.train(\n",
    "    args,\n",
    "    ft_dl, train_poisoned_dl,\n",
    "    model, criterion, optimizer, scheduler,\n",
    "    eval_every=1\n",
    ")"
   ]
  },
  {
   "cell_type": "code",
   "execution_count": 12,
   "metadata": {},
   "outputs": [],
   "source": [
    "is_poisoned = [train_poisoned_ds[i]['is_poison'] for i in range(len(train_poisoned_ds))]"
   ]
  },
  {
   "cell_type": "code",
   "execution_count": 13,
   "metadata": {},
   "outputs": [
    {
     "data": {
      "text/plain": [
       "250"
      ]
     },
     "execution_count": 13,
     "metadata": {},
     "output_type": "execute_result"
    }
   ],
   "source": [
    "sum(is_poisoned)"
   ]
  },
  {
   "cell_type": "code",
   "execution_count": 14,
   "metadata": {},
   "outputs": [],
   "source": [
    "poisoned_size=sum(is_poisoned)"
   ]
  },
  {
   "cell_type": "code",
   "execution_count": 15,
   "metadata": {},
   "outputs": [
    {
     "data": {
      "text/plain": [
       "<matplotlib.collections.PathCollection at 0x7fdcac0bde90>"
      ]
     },
     "execution_count": 15,
     "metadata": {},
     "output_type": "execute_result"
    },
    {
     "data": {
      "image/png": "[encoded data removed]",
      "text/plain": [
       "<Figure size 640x480 with 1 Axes>"
      ]
     },
     "metadata": {},
     "output_type": "display_data"
    }
   ],
   "source": [
    "masks_pre = ret_pre[\"mask_list_tr\"]\n",
    "masks_ft = ret_ft[\"mask_list_tr\"]\n",
    "# noise_mask = pre_dict[\"noise_mask\"]\n",
    "\n",
    "learn_epochs = get_first_epoch_where_we_learn_forever(masks_pre)\n",
    "forget_epochs = get_first_epoch_where_we_forget_forever(masks_ft)\n",
    "learn = learn_epochs + np.random.uniform(-0.5, 0.5, size = learn_epochs.shape)\n",
    "forget = forget_epochs \n",
    "fg = forget_epochs.max()\n",
    "forget[forget_epochs!=fg] = forget[forget_epochs!=fg] + np.random.uniform(-0.4, 0.4, size = forget_epochs[forget_epochs!=fg].shape)\n",
    "plt.xlabel(\"Learning Time\")\n",
    "plt.ylabel(\"Second Split Forgetting Time\")\n",
    "\n",
    "plt.axhline(y=fg-0.5, color='r', linestyle='--')\n",
    "\n",
    "\n",
    "plt.scatter(learn[poisoned_size:], forget[poisoned_size:], s= 1.5, c = \"b\")\n",
    "plt.scatter(learn[:poisoned_size], forget[:poisoned_size], s= 3, c = \"r\")"
   ]
  },
  {
   "cell_type": "code",
   "execution_count": 29,
   "metadata": {},
   "outputs": [
    {
     "data": {
      "text/plain": [
       "<matplotlib.collections.PathCollection at 0x7fd42410fb10>"
      ]
     },
     "execution_count": 29,
     "metadata": {},
     "output_type": "execute_result"
    },
    {
     "data": {
      "image/png": "[encoded data removed]",
      "text/plain": [
       "<Figure size 640x480 with 1 Axes>"
      ]
     },
     "metadata": {},
     "output_type": "display_data"
    }
   ],
   "source": [
    "masks_pre = ret_pre[\"mask_list_tr\"]\n",
    "masks_ft = ret_ft[\"mask_list_tr\"]\n",
    "# noise_mask = pre_dict[\"noise_mask\"]\n",
    "\n",
    "learn_epochs = get_first_epoch_where_we_learn_forever(masks_pre)\n",
    "forget_epochs = get_first_epoch_where_we_forget_forever(masks_ft)\n",
    "learn = learn_epochs + np.random.uniform(-0.5, 0.5, size = learn_epochs.shape)\n",
    "forget = forget_epochs \n",
    "fg = forget_epochs.max()\n",
    "forget[forget_epochs!=fg] = forget[forget_epochs!=fg] + np.random.uniform(-0.4, 0.4, size = forget_epochs[forget_epochs!=fg].shape)\n",
    "plt.xlabel(\"Learning Time\")\n",
    "plt.ylabel(\"Second Split Forgetting Time\")\n",
    "\n",
    "plt.axhline(y=fg-0.5, color='r', linestyle='--')\n",
    "\n",
    "\n",
    "plt.scatter(learn[poisoned_size:], forget[poisoned_size:], s= 1.5, c = \"b\")\n",
    "plt.scatter(learn[:poisoned_size], forget[:poisoned_size], s= 3, c = \"r\")"
   ]
  },
  {
   "cell_type": "code",
   "execution_count": 16,
   "metadata": {},
   "outputs": [],
   "source": [
    "import matplotlib\n",
    "import numpy as np\n",
    "import matplotlib.gridspec as gridspec\n",
    "\n",
    "matplotlib.rcParams['pdf.fonttype'] = 42\n",
    "matplotlib.rcParams['ps.fonttype'] = 42\n",
    "matplotlib.use('svg')\n",
    "matplotlib.rcParams['font.size'] = 14\n",
    "matplotlib.rcParams['font.family'] = \"serif\"\n",
    "matplotlib.rcParams['font.sans-serif'] = \"Times New Roman\""
   ]
  },
  {
   "cell_type": "code",
   "execution_count": 17,
   "metadata": {},
   "outputs": [
    {
     "data": {
      "text/plain": [
       "[Text(-10.0, 0, ''),\n",
       " Text(0.0, 0, ''),\n",
       " Text(10.0, 0, ''),\n",
       " Text(20.0, 0, ''),\n",
       " Text(30.0, 0, ''),\n",
       " Text(40.0, 0, ''),\n",
       " Text(50.0, 0, ''),\n",
       " Text(60.0, 0, '')]"
      ]
     },
     "execution_count": 17,
     "metadata": {},
     "output_type": "execute_result"
    }
   ],
   "source": [
    "\n",
    "# x, y  = learn[:250], forget[:250]\n",
    "x, y  = learn[poisoned_size:], forget[poisoned_size:]\n",
    "fig = plt.figure(figsize=(8,8))\n",
    "gs = gridspec.GridSpec(5, 5)\n",
    "ax_main = plt.subplot(gs[1:, :4])\n",
    "ax_xDist = plt.subplot(gs[0, :4])#,sharex=ax_main)\n",
    "ax_yDist = plt.subplot(gs[1:, 4])#,sharey=ax_main)\n",
    "\n",
    "ax_main.scatter(x,y,marker='.',c='tab:blue',s=50)\n",
    "ax_main.set(xlabel=\"Learning Time\", ylabel=\"Second Split Forgetting Time\")\n",
    "ax_main.axhline(y=fg-0.5, color='tab:red', linestyle='--', c = 'tab:red')\n",
    "ax_xDist.hist(x,bins=61,color='tab:red',align='mid')\n",
    "ax_xDist.set(ylabel='#Examples')\n",
    "\n",
    "ax_yDist.hist(y,bins=61,color='tab:red', orientation='horizontal',align='mid')\n",
    "ax_yDist.set(xlabel='#Examples')\n",
    "\n",
    "ax_xDist.set_yscale('log')\n",
    "ax_yDist.set_xscale('log')\n",
    "ax_yDist.set_yticklabels([])\n",
    "ax_xDist.set_xticklabels([])\n",
    "\n",
    "\n",
    "# plt.savefig(\"plots/mnist_vis.svg\")\n",
    "# plt.show()\n",
    "# fig"
   ]
  },
  {
   "cell_type": "code",
   "execution_count": 18,
   "metadata": {},
   "outputs": [
    {
     "data": {
      "image/png": "[encoded data removed]",
      "text/plain": [
       "<Figure size 576x576 with 3 Axes>"
      ]
     },
     "execution_count": 18,
     "metadata": {},
     "output_type": "execute_result"
    }
   ],
   "source": [
    "fig"
   ]
  },
  {
   "cell_type": "code",
   "execution_count": 38,
   "metadata": {},
   "outputs": [
    {
     "data": {
      "text/plain": [
       "[Text(-10.0, 0, ''),\n",
       " Text(0.0, 0, ''),\n",
       " Text(10.0, 0, ''),\n",
       " Text(20.0, 0, ''),\n",
       " Text(30.0, 0, ''),\n",
       " Text(40.0, 0, ''),\n",
       " Text(50.0, 0, ''),\n",
       " Text(60.0, 0, '')]"
      ]
     },
     "execution_count": 38,
     "metadata": {},
     "output_type": "execute_result"
    }
   ],
   "source": [
    "\n",
    "# x, y  = learn[:250], forget[:250]\n",
    "x, y  = learn[poisoned_size:], forget[poisoned_size:]\n",
    "fig = plt.figure(figsize=(8,8))\n",
    "gs = gridspec.GridSpec(5, 5)\n",
    "ax_main = plt.subplot(gs[1:, :4])\n",
    "ax_xDist = plt.subplot(gs[0, :4])#,sharex=ax_main)\n",
    "ax_yDist = plt.subplot(gs[1:, 4])#,sharey=ax_main)\n",
    "\n",
    "ax_main.scatter(x,y,marker='.',c='tab:blue',s=50)\n",
    "ax_main.set(xlabel=\"Learning Time\", ylabel=\"Second Split Forgetting Time\")\n",
    "ax_main.axhline(y=fg-0.5, color='tab:red', linestyle='--', c = 'tab:red')\n",
    "ax_xDist.hist(x,bins=61,color='tab:red',align='mid')\n",
    "ax_xDist.set(ylabel='#Examples')\n",
    "\n",
    "ax_yDist.hist(y,bins=61,color='tab:red', orientation='horizontal',align='mid')\n",
    "ax_yDist.set(xlabel='#Examples')\n",
    "\n",
    "ax_xDist.set_yscale('log')\n",
    "ax_yDist.set_xscale('log')\n",
    "ax_yDist.set_yticklabels([])\n",
    "ax_xDist.set_xticklabels([])\n",
    "\n",
    "\n",
    "# plt.savefig(\"plots/mnist_vis.svg\")\n",
    "# plt.show()\n",
    "# fig"
   ]
  },
  {
   "cell_type": "code",
   "execution_count": 39,
   "metadata": {},
   "outputs": [
    {
     "data": {
      "image/png": "[encoded data removed]",
      "text/plain": [
       "<Figure size 576x576 with 3 Axes>"
      ]
     },
     "execution_count": 39,
     "metadata": {},
     "output_type": "execute_result"
    }
   ],
   "source": [
    "fig"
   ]
  }
 ],
 "metadata": {
  "kernelspec": {
   "display_name": "ood",
   "language": "python",
   "name": "python3"
  },
  "language_info": {
   "codemirror_mode": {
    "name": "ipython",
    "version": 3
   },
   "file_extension": ".py",
   "mimetype": "text/x-python",
   "name": "python",
   "nbconvert_exporter": "python",
   "pygments_lexer": "ipython3",
   "version": "3.11.6"
  }
 },
 "nbformat": 4,
 "nbformat_minor": 2
}
